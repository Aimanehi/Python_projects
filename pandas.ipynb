{
 "cells": [
  {
   "cell_type": "markdown",
   "id": "ff50c4bf",
   "metadata": {},
   "source": [
    "## Pandas - Python Data Analysis Library\n",
    "\n",
    "Pandas is used to analyze data. Pandas is a python library providing fast, flexible and expressive data structures designed to make working with relational or labelled data both easy and intuitive. It aims to be the fundermental high-level building block for doing real world data analysis in python.\n",
    "\n",
    "- Series - 1 Dimension \n",
    "- DataFrame - 2 Dimension"
   ]
  },
  {
   "cell_type": "markdown",
   "id": "917eafb2",
   "metadata": {},
   "source": [
    "Creating a Series\n",
    "- Use a list\n",
    "- Use a Dictionary\n",
    "- Usind a Numpy Array\n"
   ]
  },
  {
   "cell_type": "code",
   "execution_count": 1,
   "id": "e8fc822e",
   "metadata": {},
   "outputs": [],
   "source": [
    "# Import Pandas\n",
    "import pandas as pd"
   ]
  },
  {
   "cell_type": "code",
   "execution_count": 2,
   "id": "74f2a726",
   "metadata": {},
   "outputs": [
    {
     "data": {
      "text/plain": [
       "[12, 14, 14, 23, 56, 66]"
      ]
     },
     "execution_count": 2,
     "metadata": {},
     "output_type": "execute_result"
    }
   ],
   "source": [
    "# Create a series using a list - pd.series(data=??, index=??)\n",
    "age = [12,14,14,23,56,66]\n",
    "age"
   ]
  },
  {
   "cell_type": "code",
   "execution_count": 3,
   "id": "1c857e68",
   "metadata": {},
   "outputs": [
    {
     "data": {
      "text/plain": [
       "0    12\n",
       "1    14\n",
       "2    14\n",
       "3    23\n",
       "4    56\n",
       "5    66\n",
       "dtype: int64"
      ]
     },
     "execution_count": 3,
     "metadata": {},
     "output_type": "execute_result"
    }
   ],
   "source": [
    "customer = pd.Series(data=age)\n",
    "customer"
   ]
  },
  {
   "cell_type": "code",
   "execution_count": 6,
   "id": "18480ed4",
   "metadata": {},
   "outputs": [
    {
     "data": {
      "text/plain": [
       "Saka         12\n",
       "John         14\n",
       "Henry        14\n",
       "Elizabeth    23\n",
       "Sarah        56\n",
       "Mary         66\n",
       "dtype: int64"
      ]
     },
     "execution_count": 6,
     "metadata": {},
     "output_type": "execute_result"
    }
   ],
   "source": [
    "name = ['Saka', 'John', 'Henry', 'Elizabeth', 'Sarah', 'Mary']\n",
    "customer = pd.Series(data=age, index=name)\n",
    "customer"
   ]
  },
  {
   "cell_type": "code",
   "execution_count": 13,
   "id": "903fb786",
   "metadata": {},
   "outputs": [
    {
     "data": {
      "text/plain": [
       "{'Avatar': 2022,\n",
       " 'Black Panther': 2020,\n",
       " 'Saw': 2010,\n",
       " 'Avenger': 2020,\n",
       " 'IronMan': 2021,\n",
       " 'Hulk': 2004}"
      ]
     },
     "execution_count": 13,
     "metadata": {},
     "output_type": "execute_result"
    }
   ],
   "source": [
    "# Creating a series using a distionary\n",
    "movies = {\"Avatar\":2022,\"Black Panther\":2020,\"Saw\":2010,\"Avenger\":2020,\"IronMan\":2021,\"Hulk\":2004}\n",
    "movies"
   ]
  },
  {
   "cell_type": "code",
   "execution_count": 14,
   "id": "2af66c05",
   "metadata": {},
   "outputs": [
    {
     "data": {
      "text/plain": [
       "Avatar           2022\n",
       "Black Panther    2020\n",
       "Saw              2010\n",
       "Avenger          2020\n",
       "IronMan          2021\n",
       "Hulk             2004\n",
       "dtype: int64"
      ]
     },
     "execution_count": 14,
     "metadata": {},
     "output_type": "execute_result"
    }
   ],
   "source": [
    "film = pd.Series(movies)\n",
    "film"
   ]
  },
  {
   "cell_type": "code",
   "execution_count": 16,
   "id": "7dc9a0da",
   "metadata": {},
   "outputs": [
    {
     "data": {
      "text/plain": [
       "Index(['Avatar', 'Black Panther', 'Saw', 'Avenger', 'IronMan', 'Hulk'], dtype='object')"
      ]
     },
     "execution_count": 16,
     "metadata": {},
     "output_type": "execute_result"
    }
   ],
   "source": [
    "film.index"
   ]
  },
  {
   "cell_type": "code",
   "execution_count": 17,
   "id": "95710d1d",
   "metadata": {},
   "outputs": [
    {
     "data": {
      "text/plain": [
       "array([2022, 2020, 2010, 2020, 2021, 2004], dtype=int64)"
      ]
     },
     "execution_count": 17,
     "metadata": {},
     "output_type": "execute_result"
    }
   ],
   "source": [
    "film.values"
   ]
  },
  {
   "cell_type": "code",
   "execution_count": 18,
   "id": "2c5cfa34",
   "metadata": {},
   "outputs": [
    {
     "data": {
      "text/plain": [
       "Avatar            True\n",
       "Black Panther     True\n",
       "Saw              False\n",
       "Avenger           True\n",
       "IronMan           True\n",
       "Hulk             False\n",
       "dtype: bool"
      ]
     },
     "execution_count": 18,
     "metadata": {},
     "output_type": "execute_result"
    }
   ],
   "source": [
    "#filtering to movies in 2020\n",
    "film >= 2020"
   ]
  },
  {
   "cell_type": "code",
   "execution_count": 21,
   "id": "c0832afb",
   "metadata": {},
   "outputs": [
    {
     "data": {
      "text/plain": [
       "Avatar           2022\n",
       "Black Panther    2020\n",
       "Avenger          2020\n",
       "IronMan          2021\n",
       "dtype: int64"
      ]
     },
     "execution_count": 21,
     "metadata": {},
     "output_type": "execute_result"
    }
   ],
   "source": [
    "film[film >= 2020]"
   ]
  },
  {
   "cell_type": "code",
   "execution_count": 22,
   "id": "f7f475ff",
   "metadata": {},
   "outputs": [
    {
     "data": {
      "text/plain": [
       "Saw     2010\n",
       "Hulk    2004\n",
       "dtype: int64"
      ]
     },
     "execution_count": 22,
     "metadata": {},
     "output_type": "execute_result"
    }
   ],
   "source": [
    "film[film < 2020]"
   ]
  },
  {
   "cell_type": "code",
   "execution_count": 26,
   "id": "4a0add59",
   "metadata": {},
   "outputs": [
    {
     "data": {
      "text/plain": [
       "2022"
      ]
     },
     "execution_count": 26,
     "metadata": {},
     "output_type": "execute_result"
    }
   ],
   "source": [
    "# the year iron man was made\n",
    "film['Avatar']"
   ]
  },
  {
   "cell_type": "markdown",
   "id": "25d4b525",
   "metadata": {},
   "source": [
    "### DataFrame"
   ]
  },
  {
   "cell_type": "code",
   "execution_count": 34,
   "id": "55f2c039",
   "metadata": {},
   "outputs": [],
   "source": [
    "# Create a dataframe using list\n",
    "# customer Revenue\n",
    "header = ['name', 'age', 'quantity', 'revenue']\n",
    "df = [['Ben', 23, 250, 2500],['Kerry', 21, 30, 45900],['Micheal', 24, 100, 1500],['Nene', 24, 90, 1700],['James', 27, 800, 3000]]"
   ]
  },
  {
   "cell_type": "code",
   "execution_count": 35,
   "id": "dc2a0439",
   "metadata": {},
   "outputs": [
    {
     "data": {
      "text/html": [
       "<div>\n",
       "<style scoped>\n",
       "    .dataframe tbody tr th:only-of-type {\n",
       "        vertical-align: middle;\n",
       "    }\n",
       "\n",
       "    .dataframe tbody tr th {\n",
       "        vertical-align: top;\n",
       "    }\n",
       "\n",
       "    .dataframe thead th {\n",
       "        text-align: right;\n",
       "    }\n",
       "</style>\n",
       "<table border=\"1\" class=\"dataframe\">\n",
       "  <thead>\n",
       "    <tr style=\"text-align: right;\">\n",
       "      <th></th>\n",
       "      <th>name</th>\n",
       "      <th>age</th>\n",
       "      <th>quantity</th>\n",
       "      <th>revenue</th>\n",
       "    </tr>\n",
       "  </thead>\n",
       "  <tbody>\n",
       "    <tr>\n",
       "      <th>0</th>\n",
       "      <td>Ben</td>\n",
       "      <td>23</td>\n",
       "      <td>250</td>\n",
       "      <td>2500</td>\n",
       "    </tr>\n",
       "    <tr>\n",
       "      <th>1</th>\n",
       "      <td>Kerry</td>\n",
       "      <td>21</td>\n",
       "      <td>30</td>\n",
       "      <td>45900</td>\n",
       "    </tr>\n",
       "    <tr>\n",
       "      <th>2</th>\n",
       "      <td>Micheal</td>\n",
       "      <td>24</td>\n",
       "      <td>100</td>\n",
       "      <td>1500</td>\n",
       "    </tr>\n",
       "    <tr>\n",
       "      <th>3</th>\n",
       "      <td>Nene</td>\n",
       "      <td>24</td>\n",
       "      <td>90</td>\n",
       "      <td>1700</td>\n",
       "    </tr>\n",
       "    <tr>\n",
       "      <th>4</th>\n",
       "      <td>James</td>\n",
       "      <td>27</td>\n",
       "      <td>800</td>\n",
       "      <td>3000</td>\n",
       "    </tr>\n",
       "  </tbody>\n",
       "</table>\n",
       "</div>"
      ],
      "text/plain": [
       "      name  age  quantity  revenue\n",
       "0      Ben   23       250     2500\n",
       "1    Kerry   21        30    45900\n",
       "2  Micheal   24       100     1500\n",
       "3     Nene   24        90     1700\n",
       "4    James   27       800     3000"
      ]
     },
     "execution_count": 35,
     "metadata": {},
     "output_type": "execute_result"
    }
   ],
   "source": [
    "# pd.DataFrame(data=??, index=??, Columns=??)\n",
    "cust_rev= pd.DataFrame(data=df, columns=header)\n",
    "cust_rev"
   ]
  },
  {
   "cell_type": "code",
   "execution_count": 36,
   "id": "05ae90b5",
   "metadata": {},
   "outputs": [
    {
     "data": {
      "text/plain": [
       "0    False\n",
       "1    False\n",
       "2    False\n",
       "3    False\n",
       "4     True\n",
       "Name: age, dtype: bool"
      ]
     },
     "execution_count": 36,
     "metadata": {},
     "output_type": "execute_result"
    }
   ],
   "source": [
    "# indexing and filtering\n",
    "# age > 25\n",
    "\n",
    "cust_rev['age']>25"
   ]
  },
  {
   "cell_type": "code",
   "execution_count": 37,
   "id": "bdcbd476",
   "metadata": {},
   "outputs": [
    {
     "data": {
      "text/html": [
       "<div>\n",
       "<style scoped>\n",
       "    .dataframe tbody tr th:only-of-type {\n",
       "        vertical-align: middle;\n",
       "    }\n",
       "\n",
       "    .dataframe tbody tr th {\n",
       "        vertical-align: top;\n",
       "    }\n",
       "\n",
       "    .dataframe thead th {\n",
       "        text-align: right;\n",
       "    }\n",
       "</style>\n",
       "<table border=\"1\" class=\"dataframe\">\n",
       "  <thead>\n",
       "    <tr style=\"text-align: right;\">\n",
       "      <th></th>\n",
       "      <th>name</th>\n",
       "      <th>age</th>\n",
       "      <th>quantity</th>\n",
       "      <th>revenue</th>\n",
       "    </tr>\n",
       "  </thead>\n",
       "  <tbody>\n",
       "    <tr>\n",
       "      <th>4</th>\n",
       "      <td>James</td>\n",
       "      <td>27</td>\n",
       "      <td>800</td>\n",
       "      <td>3000</td>\n",
       "    </tr>\n",
       "  </tbody>\n",
       "</table>\n",
       "</div>"
      ],
      "text/plain": [
       "    name  age  quantity  revenue\n",
       "4  James   27       800     3000"
      ]
     },
     "execution_count": 37,
     "metadata": {},
     "output_type": "execute_result"
    }
   ],
   "source": [
    "cust_rev[cust_rev['age']>25]"
   ]
  },
  {
   "cell_type": "code",
   "execution_count": 38,
   "id": "010dc180",
   "metadata": {},
   "outputs": [
    {
     "data": {
      "text/plain": [
       "0     True\n",
       "1    False\n",
       "2     True\n",
       "3     True\n",
       "4    False\n",
       "Name: revenue, dtype: bool"
      ]
     },
     "execution_count": 38,
     "metadata": {},
     "output_type": "execute_result"
    }
   ],
   "source": [
    "cust_rev['revenue']<3000"
   ]
  },
  {
   "cell_type": "code",
   "execution_count": 40,
   "id": "b9927397",
   "metadata": {},
   "outputs": [
    {
     "data": {
      "text/html": [
       "<div>\n",
       "<style scoped>\n",
       "    .dataframe tbody tr th:only-of-type {\n",
       "        vertical-align: middle;\n",
       "    }\n",
       "\n",
       "    .dataframe tbody tr th {\n",
       "        vertical-align: top;\n",
       "    }\n",
       "\n",
       "    .dataframe thead th {\n",
       "        text-align: right;\n",
       "    }\n",
       "</style>\n",
       "<table border=\"1\" class=\"dataframe\">\n",
       "  <thead>\n",
       "    <tr style=\"text-align: right;\">\n",
       "      <th></th>\n",
       "      <th>name</th>\n",
       "      <th>age</th>\n",
       "      <th>quantity</th>\n",
       "      <th>revenue</th>\n",
       "    </tr>\n",
       "  </thead>\n",
       "  <tbody>\n",
       "    <tr>\n",
       "      <th>0</th>\n",
       "      <td>Ben</td>\n",
       "      <td>23</td>\n",
       "      <td>250</td>\n",
       "      <td>2500</td>\n",
       "    </tr>\n",
       "    <tr>\n",
       "      <th>2</th>\n",
       "      <td>Micheal</td>\n",
       "      <td>24</td>\n",
       "      <td>100</td>\n",
       "      <td>1500</td>\n",
       "    </tr>\n",
       "    <tr>\n",
       "      <th>3</th>\n",
       "      <td>Nene</td>\n",
       "      <td>24</td>\n",
       "      <td>90</td>\n",
       "      <td>1700</td>\n",
       "    </tr>\n",
       "  </tbody>\n",
       "</table>\n",
       "</div>"
      ],
      "text/plain": [
       "      name  age  quantity  revenue\n",
       "0      Ben   23       250     2500\n",
       "2  Micheal   24       100     1500\n",
       "3     Nene   24        90     1700"
      ]
     },
     "execution_count": 40,
     "metadata": {},
     "output_type": "execute_result"
    }
   ],
   "source": [
    "cust_rev[cust_rev['revenue']<3000]"
   ]
  },
  {
   "cell_type": "code",
   "execution_count": 42,
   "id": "309e6f7a",
   "metadata": {},
   "outputs": [
    {
     "data": {
      "text/plain": [
       "pandas.core.frame.DataFrame"
      ]
     },
     "execution_count": 42,
     "metadata": {},
     "output_type": "execute_result"
    }
   ],
   "source": [
    "type(cust_rev[['name']])"
   ]
  },
  {
   "cell_type": "code",
   "execution_count": 43,
   "id": "1e5ec041",
   "metadata": {},
   "outputs": [
    {
     "data": {
      "text/html": [
       "<div>\n",
       "<style scoped>\n",
       "    .dataframe tbody tr th:only-of-type {\n",
       "        vertical-align: middle;\n",
       "    }\n",
       "\n",
       "    .dataframe tbody tr th {\n",
       "        vertical-align: top;\n",
       "    }\n",
       "\n",
       "    .dataframe thead th {\n",
       "        text-align: right;\n",
       "    }\n",
       "</style>\n",
       "<table border=\"1\" class=\"dataframe\">\n",
       "  <thead>\n",
       "    <tr style=\"text-align: right;\">\n",
       "      <th></th>\n",
       "      <th>name</th>\n",
       "      <th>revenue</th>\n",
       "    </tr>\n",
       "  </thead>\n",
       "  <tbody>\n",
       "    <tr>\n",
       "      <th>0</th>\n",
       "      <td>Ben</td>\n",
       "      <td>2500</td>\n",
       "    </tr>\n",
       "    <tr>\n",
       "      <th>2</th>\n",
       "      <td>Micheal</td>\n",
       "      <td>1500</td>\n",
       "    </tr>\n",
       "    <tr>\n",
       "      <th>3</th>\n",
       "      <td>Nene</td>\n",
       "      <td>1700</td>\n",
       "    </tr>\n",
       "  </tbody>\n",
       "</table>\n",
       "</div>"
      ],
      "text/plain": [
       "      name  revenue\n",
       "0      Ben     2500\n",
       "2  Micheal     1500\n",
       "3     Nene     1700"
      ]
     },
     "execution_count": 43,
     "metadata": {},
     "output_type": "execute_result"
    }
   ],
   "source": [
    "cust_rev[['name','revenue']][cust_rev['revenue']<3000]"
   ]
  },
  {
   "cell_type": "code",
   "execution_count": 46,
   "id": "534ab5e1",
   "metadata": {},
   "outputs": [
    {
     "data": {
      "text/html": [
       "<div>\n",
       "<style scoped>\n",
       "    .dataframe tbody tr th:only-of-type {\n",
       "        vertical-align: middle;\n",
       "    }\n",
       "\n",
       "    .dataframe tbody tr th {\n",
       "        vertical-align: top;\n",
       "    }\n",
       "\n",
       "    .dataframe thead th {\n",
       "        text-align: right;\n",
       "    }\n",
       "</style>\n",
       "<table border=\"1\" class=\"dataframe\">\n",
       "  <thead>\n",
       "    <tr style=\"text-align: right;\">\n",
       "      <th></th>\n",
       "      <th>name</th>\n",
       "      <th>age</th>\n",
       "      <th>quantity</th>\n",
       "      <th>revenue</th>\n",
       "      <th>rev/qty</th>\n",
       "    </tr>\n",
       "  </thead>\n",
       "  <tbody>\n",
       "    <tr>\n",
       "      <th>0</th>\n",
       "      <td>Ben</td>\n",
       "      <td>23</td>\n",
       "      <td>250</td>\n",
       "      <td>2500</td>\n",
       "      <td>10.00</td>\n",
       "    </tr>\n",
       "    <tr>\n",
       "      <th>1</th>\n",
       "      <td>Kerry</td>\n",
       "      <td>21</td>\n",
       "      <td>30</td>\n",
       "      <td>45900</td>\n",
       "      <td>1530.00</td>\n",
       "    </tr>\n",
       "    <tr>\n",
       "      <th>2</th>\n",
       "      <td>Micheal</td>\n",
       "      <td>24</td>\n",
       "      <td>100</td>\n",
       "      <td>1500</td>\n",
       "      <td>15.00</td>\n",
       "    </tr>\n",
       "    <tr>\n",
       "      <th>3</th>\n",
       "      <td>Nene</td>\n",
       "      <td>24</td>\n",
       "      <td>90</td>\n",
       "      <td>1700</td>\n",
       "      <td>18.89</td>\n",
       "    </tr>\n",
       "    <tr>\n",
       "      <th>4</th>\n",
       "      <td>James</td>\n",
       "      <td>27</td>\n",
       "      <td>800</td>\n",
       "      <td>3000</td>\n",
       "      <td>3.75</td>\n",
       "    </tr>\n",
       "  </tbody>\n",
       "</table>\n",
       "</div>"
      ],
      "text/plain": [
       "      name  age  quantity  revenue  rev/qty\n",
       "0      Ben   23       250     2500    10.00\n",
       "1    Kerry   21        30    45900  1530.00\n",
       "2  Micheal   24       100     1500    15.00\n",
       "3     Nene   24        90     1700    18.89\n",
       "4    James   27       800     3000     3.75"
      ]
     },
     "execution_count": 46,
     "metadata": {},
     "output_type": "execute_result"
    }
   ],
   "source": [
    "## creating a new column\n",
    "cust_rev['rev/qty'] = round(cust_rev['revenue']/cust_rev['quantity'], 2)\n",
    "cust_rev"
   ]
  },
  {
   "cell_type": "code",
   "execution_count": 48,
   "id": "96d082eb",
   "metadata": {},
   "outputs": [
    {
     "data": {
      "text/html": [
       "<div>\n",
       "<style scoped>\n",
       "    .dataframe tbody tr th:only-of-type {\n",
       "        vertical-align: middle;\n",
       "    }\n",
       "\n",
       "    .dataframe tbody tr th {\n",
       "        vertical-align: top;\n",
       "    }\n",
       "\n",
       "    .dataframe thead th {\n",
       "        text-align: right;\n",
       "    }\n",
       "</style>\n",
       "<table border=\"1\" class=\"dataframe\">\n",
       "  <thead>\n",
       "    <tr style=\"text-align: right;\">\n",
       "      <th></th>\n",
       "      <th>name</th>\n",
       "      <th>age</th>\n",
       "      <th>rev/qty</th>\n",
       "    </tr>\n",
       "  </thead>\n",
       "  <tbody>\n",
       "    <tr>\n",
       "      <th>0</th>\n",
       "      <td>Ben</td>\n",
       "      <td>23</td>\n",
       "      <td>10.00</td>\n",
       "    </tr>\n",
       "    <tr>\n",
       "      <th>4</th>\n",
       "      <td>James</td>\n",
       "      <td>27</td>\n",
       "      <td>3.75</td>\n",
       "    </tr>\n",
       "  </tbody>\n",
       "</table>\n",
       "</div>"
      ],
      "text/plain": [
       "    name  age  rev/qty\n",
       "0    Ben   23    10.00\n",
       "4  James   27     3.75"
      ]
     },
     "execution_count": 48,
     "metadata": {},
     "output_type": "execute_result"
    }
   ],
   "source": [
    "cust_rev[['name', 'age','rev/qty']][cust_rev['quantity']> 100]"
   ]
  },
  {
   "cell_type": "code",
   "execution_count": 49,
   "id": "121abd3a",
   "metadata": {},
   "outputs": [
    {
     "data": {
      "text/plain": [
       "'C:\\\\Users\\\\value'"
      ]
     },
     "execution_count": 49,
     "metadata": {},
     "output_type": "execute_result"
    }
   ],
   "source": [
    "pwd()"
   ]
  },
  {
   "cell_type": "code",
   "execution_count": null,
   "id": "588e93af",
   "metadata": {},
   "outputs": [],
   "source": []
  }
 ],
 "metadata": {
  "kernelspec": {
   "display_name": "Python 3 (ipykernel)",
   "language": "python",
   "name": "python3"
  },
  "language_info": {
   "codemirror_mode": {
    "name": "ipython",
    "version": 3
   },
   "file_extension": ".py",
   "mimetype": "text/x-python",
   "name": "python",
   "nbconvert_exporter": "python",
   "pygments_lexer": "ipython3",
   "version": "3.9.13"
  }
 },
 "nbformat": 4,
 "nbformat_minor": 5
}
