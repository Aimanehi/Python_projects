{
 "cells": [
  {
   "cell_type": "markdown",
   "id": "906f1e0a",
   "metadata": {},
   "source": [
    "Assigning a variable"
   ]
  },
  {
   "cell_type": "code",
   "execution_count": 1,
   "id": "b63720eb",
   "metadata": {},
   "outputs": [],
   "source": [
    "a = 1"
   ]
  },
  {
   "cell_type": "code",
   "execution_count": 2,
   "id": "579c3c16",
   "metadata": {},
   "outputs": [
    {
     "data": {
      "text/plain": [
       "1"
      ]
     },
     "execution_count": 2,
     "metadata": {},
     "output_type": "execute_result"
    }
   ],
   "source": [
    "a\n"
   ]
  },
  {
   "cell_type": "markdown",
   "id": "2998b93f",
   "metadata": {},
   "source": []
  },
  {
   "cell_type": "code",
   "execution_count": 3,
   "id": "c0ffe7ec",
   "metadata": {},
   "outputs": [],
   "source": [
    "fruits = 'Apple'"
   ]
  },
  {
   "cell_type": "code",
   "execution_count": 4,
   "id": "4a21b589",
   "metadata": {},
   "outputs": [
    {
     "data": {
      "text/plain": [
       "'Apple'"
      ]
     },
     "execution_count": 4,
     "metadata": {},
     "output_type": "execute_result"
    }
   ],
   "source": [
    "fruits"
   ]
  },
  {
   "cell_type": "code",
   "execution_count": 5,
   "id": "cc011239",
   "metadata": {},
   "outputs": [
    {
     "data": {
      "text/plain": [
       "str"
      ]
     },
     "execution_count": 5,
     "metadata": {},
     "output_type": "execute_result"
    }
   ],
   "source": [
    "#find out the data type\n",
    "type(fruits)"
   ]
  },
  {
   "cell_type": "code",
   "execution_count": 6,
   "id": "d85b116c",
   "metadata": {},
   "outputs": [
    {
     "data": {
      "text/plain": [
       "['__add__',\n",
       " '__class__',\n",
       " '__contains__',\n",
       " '__delattr__',\n",
       " '__dir__',\n",
       " '__doc__',\n",
       " '__eq__',\n",
       " '__format__',\n",
       " '__ge__',\n",
       " '__getattribute__',\n",
       " '__getitem__',\n",
       " '__getnewargs__',\n",
       " '__gt__',\n",
       " '__hash__',\n",
       " '__init__',\n",
       " '__init_subclass__',\n",
       " '__iter__',\n",
       " '__le__',\n",
       " '__len__',\n",
       " '__lt__',\n",
       " '__mod__',\n",
       " '__mul__',\n",
       " '__ne__',\n",
       " '__new__',\n",
       " '__reduce__',\n",
       " '__reduce_ex__',\n",
       " '__repr__',\n",
       " '__rmod__',\n",
       " '__rmul__',\n",
       " '__setattr__',\n",
       " '__sizeof__',\n",
       " '__str__',\n",
       " '__subclasshook__',\n",
       " 'capitalize',\n",
       " 'casefold',\n",
       " 'center',\n",
       " 'count',\n",
       " 'encode',\n",
       " 'endswith',\n",
       " 'expandtabs',\n",
       " 'find',\n",
       " 'format',\n",
       " 'format_map',\n",
       " 'index',\n",
       " 'isalnum',\n",
       " 'isalpha',\n",
       " 'isascii',\n",
       " 'isdecimal',\n",
       " 'isdigit',\n",
       " 'isidentifier',\n",
       " 'islower',\n",
       " 'isnumeric',\n",
       " 'isprintable',\n",
       " 'isspace',\n",
       " 'istitle',\n",
       " 'isupper',\n",
       " 'join',\n",
       " 'ljust',\n",
       " 'lower',\n",
       " 'lstrip',\n",
       " 'maketrans',\n",
       " 'partition',\n",
       " 'removeprefix',\n",
       " 'removesuffix',\n",
       " 'replace',\n",
       " 'rfind',\n",
       " 'rindex',\n",
       " 'rjust',\n",
       " 'rpartition',\n",
       " 'rsplit',\n",
       " 'rstrip',\n",
       " 'split',\n",
       " 'splitlines',\n",
       " 'startswith',\n",
       " 'strip',\n",
       " 'swapcase',\n",
       " 'title',\n",
       " 'translate',\n",
       " 'upper',\n",
       " 'zfill']"
      ]
     },
     "execution_count": 6,
     "metadata": {},
     "output_type": "execute_result"
    }
   ],
   "source": [
    "#list of directory method and attributes associted with data type\n",
    "dir(fruits)"
   ]
  },
  {
   "cell_type": "code",
   "execution_count": 7,
   "id": "2b2f3cdb",
   "metadata": {},
   "outputs": [
    {
     "data": {
      "text/plain": [
       "'Apple'"
      ]
     },
     "execution_count": 7,
     "metadata": {},
     "output_type": "execute_result"
    }
   ],
   "source": [
    "#capitalize the first letter\n",
    "fruits.capitalize()"
   ]
  },
  {
   "cell_type": "code",
   "execution_count": 8,
   "id": "3cc058b0",
   "metadata": {},
   "outputs": [
    {
     "data": {
      "text/plain": [
       "True"
      ]
     },
     "execution_count": 8,
     "metadata": {},
     "output_type": "execute_result"
    }
   ],
   "source": [
    "#find out if the string contains only letters of the alphabet\n",
    "fruits.isalpha()"
   ]
  },
  {
   "cell_type": "code",
   "execution_count": 9,
   "id": "7c73192b",
   "metadata": {},
   "outputs": [
    {
     "data": {
      "text/plain": [
       "True"
      ]
     },
     "execution_count": 9,
     "metadata": {},
     "output_type": "execute_result"
    }
   ],
   "source": [
    "#find out if the string contains only letters of the alphabet\n",
    "fruits.isalpha()"
   ]
  },
  {
   "cell_type": "code",
   "execution_count": 10,
   "id": "f1077cf1",
   "metadata": {},
   "outputs": [
    {
     "data": {
      "text/plain": [
       "True"
      ]
     },
     "execution_count": 10,
     "metadata": {},
     "output_type": "execute_result"
    }
   ],
   "source": [
    "#find out if the string contains only letters of the alphabet\n",
    "fruits.isalpha()"
   ]
  },
  {
   "cell_type": "code",
   "execution_count": 11,
   "id": "0e84fbb9",
   "metadata": {},
   "outputs": [
    {
     "data": {
      "text/plain": [
       "'APPLE'"
      ]
     },
     "execution_count": 11,
     "metadata": {},
     "output_type": "execute_result"
    }
   ],
   "source": [
    "# convert the string to uppercase\n",
    "fruits.upper()"
   ]
  },
  {
   "cell_type": "code",
   "execution_count": 12,
   "id": "ab60f083",
   "metadata": {},
   "outputs": [
    {
     "ename": "TypeError",
     "evalue": "str.join() takes exactly one argument (0 given)",
     "output_type": "error",
     "traceback": [
      "\u001b[1;31m---------------------------------------------------------------------------\u001b[0m",
      "\u001b[1;31mTypeError\u001b[0m                                 Traceback (most recent call last)",
      "\u001b[1;32m~\\AppData\\Local\\Temp\\ipykernel_18212\\1976824460.py\u001b[0m in \u001b[0;36m<module>\u001b[1;34m\u001b[0m\n\u001b[0;32m      1\u001b[0m \u001b[1;31m#concatenate two strings\u001b[0m\u001b[1;33m\u001b[0m\u001b[1;33m\u001b[0m\u001b[0m\n\u001b[1;32m----> 2\u001b[1;33m \u001b[0mfruits\u001b[0m\u001b[1;33m.\u001b[0m\u001b[0mjoin\u001b[0m\u001b[1;33m(\u001b[0m\u001b[1;33m)\u001b[0m\u001b[1;33m\u001b[0m\u001b[1;33m\u001b[0m\u001b[0m\n\u001b[0m",
      "\u001b[1;31mTypeError\u001b[0m: str.join() takes exactly one argument (0 given)"
     ]
    }
   ],
   "source": [
    "#concatenate two strings\n",
    "fruits.join()"
   ]
  },
  {
   "cell_type": "code",
   "execution_count": 13,
   "id": "a7b1d411",
   "metadata": {},
   "outputs": [
    {
     "data": {
      "text/plain": [
       "'A.p.p.l.e'"
      ]
     },
     "execution_count": 13,
     "metadata": {},
     "output_type": "execute_result"
    }
   ],
   "source": [
    "'.'.join(fruits)"
   ]
  },
  {
   "cell_type": "code",
   "execution_count": 14,
   "id": "3ed1dba5",
   "metadata": {},
   "outputs": [
    {
     "data": {
      "text/plain": [
       "'Abpbpblbe'"
      ]
     },
     "execution_count": 14,
     "metadata": {},
     "output_type": "execute_result"
    }
   ],
   "source": [
    "'b'.join(fruits)"
   ]
  },
  {
   "cell_type": "code",
   "execution_count": 15,
   "id": "d7146814",
   "metadata": {},
   "outputs": [],
   "source": [
    "sentence = 'the boy went to school'"
   ]
  },
  {
   "cell_type": "code",
   "execution_count": 16,
   "id": "c72a0b17",
   "metadata": {},
   "outputs": [
    {
     "data": {
      "text/plain": [
       "'The Boy Went To School'"
      ]
     },
     "execution_count": 16,
     "metadata": {},
     "output_type": "execute_result"
    }
   ],
   "source": [
    "#capitalise the fist letter of each word making up a string\n",
    "sentence.title()"
   ]
  },
  {
   "cell_type": "code",
   "execution_count": 17,
   "id": "8c75166b",
   "metadata": {},
   "outputs": [
    {
     "data": {
      "text/plain": [
       "4"
      ]
     },
     "execution_count": 17,
     "metadata": {},
     "output_type": "execute_result"
    }
   ],
   "source": [
    "#counts occurences of a particular or group of characters\n",
    "sentence.count('o')"
   ]
  },
  {
   "cell_type": "code",
   "execution_count": 18,
   "id": "bbb32a5c",
   "metadata": {},
   "outputs": [
    {
     "data": {
      "text/plain": [
       "22"
      ]
     },
     "execution_count": 18,
     "metadata": {},
     "output_type": "execute_result"
    }
   ],
   "source": [
    "#finds the length of characters in the string\n",
    "len(sentence)"
   ]
  },
  {
   "cell_type": "code",
   "execution_count": 19,
   "id": "b6fd3cbe",
   "metadata": {},
   "outputs": [
    {
     "name": "stdout",
     "output_type": "stream",
     "text": [
      "my name is joshua\n",
      "I am in the class\n"
     ]
    }
   ],
   "source": [
    "#insert tab\n",
    "print('my name is joshua\\nI am in the class')"
   ]
  },
  {
   "cell_type": "code",
   "execution_count": 20,
   "id": "c7f64c39",
   "metadata": {},
   "outputs": [
    {
     "name": "stdout",
     "output_type": "stream",
     "text": [
      "my name is Joshua\t I am in this class\n"
     ]
    }
   ],
   "source": [
    "print('my name is Joshua\\t I am in this class')"
   ]
  },
  {
   "cell_type": "code",
   "execution_count": 21,
   "id": "a6f08e96",
   "metadata": {},
   "outputs": [],
   "source": [
    "name_1 = 'Aima'\n",
    "name_2 = 'aima'\n",
    "name_3 = 'aiMa'"
   ]
  },
  {
   "cell_type": "code",
   "execution_count": 22,
   "id": "bf633e5a",
   "metadata": {},
   "outputs": [
    {
     "data": {
      "text/plain": [
       "False"
      ]
     },
     "execution_count": 22,
     "metadata": {},
     "output_type": "execute_result"
    }
   ],
   "source": [
    "name_1 == name_2"
   ]
  },
  {
   "cell_type": "code",
   "execution_count": 23,
   "id": "803384bc",
   "metadata": {},
   "outputs": [
    {
     "name": "stdout",
     "output_type": "stream",
     "text": [
      "Aima aima aiMa\n"
     ]
    }
   ],
   "source": [
    "print(name_1, name_2, name_3)"
   ]
  },
  {
   "cell_type": "code",
   "execution_count": 24,
   "id": "68971836",
   "metadata": {},
   "outputs": [
    {
     "name": "stdout",
     "output_type": "stream",
     "text": [
      "Aima\n",
      "aima\n",
      "aiMa\n"
     ]
    }
   ],
   "source": [
    "print(name_1, name_2, name_3, sep='\\n')"
   ]
  },
  {
   "cell_type": "code",
   "execution_count": 25,
   "id": "46694826",
   "metadata": {},
   "outputs": [
    {
     "name": "stdout",
     "output_type": "stream",
     "text": [
      "Aima\taima\taiMa\n"
     ]
    }
   ],
   "source": [
    "print(name_1, name_2, name_3, sep='\\t')"
   ]
  },
  {
   "cell_type": "code",
   "execution_count": 26,
   "id": "8dea2378",
   "metadata": {},
   "outputs": [],
   "source": [
    "country_1 = \"United Kingdom\"\n",
    "country_2 = \"Trinidad and Tobago\"\n",
    "country_3 = \"St Kitts and Nevis\"\n",
    "\n",
    "#Slicing\n",
    "#[start:stop:step]"
   ]
  },
  {
   "cell_type": "code",
   "execution_count": 27,
   "id": "1e6a22a0",
   "metadata": {},
   "outputs": [
    {
     "data": {
      "text/plain": [
       "'United Kingdom'"
      ]
     },
     "execution_count": 27,
     "metadata": {},
     "output_type": "execute_result"
    }
   ],
   "source": [
    "country_1[:]"
   ]
  },
  {
   "cell_type": "code",
   "execution_count": 28,
   "id": "4a1ad0b7",
   "metadata": {},
   "outputs": [
    {
     "data": {
      "text/plain": [
       "'United '"
      ]
     },
     "execution_count": 28,
     "metadata": {},
     "output_type": "execute_result"
    }
   ],
   "source": [
    "country_1[:7]"
   ]
  },
  {
   "cell_type": "code",
   "execution_count": 29,
   "id": "52c3bdb8",
   "metadata": {},
   "outputs": [
    {
     "data": {
      "text/plain": [
       "'ted Kingdom'"
      ]
     },
     "execution_count": 29,
     "metadata": {},
     "output_type": "execute_result"
    }
   ],
   "source": [
    "country_1[3:]"
   ]
  },
  {
   "cell_type": "code",
   "execution_count": 30,
   "id": "acc53d7d",
   "metadata": {},
   "outputs": [
    {
     "data": {
      "text/plain": [
       "'e igo'"
      ]
     },
     "execution_count": 30,
     "metadata": {},
     "output_type": "execute_result"
    }
   ],
   "source": [
    "country_1[4::2]"
   ]
  },
  {
   "cell_type": "markdown",
   "id": "c594e0ab",
   "metadata": {},
   "source": [
    "Print Formatting"
   ]
  },
  {
   "cell_type": "code",
   "execution_count": 31,
   "id": "c026d8ab",
   "metadata": {},
   "outputs": [
    {
     "name": "stdout",
     "output_type": "stream",
     "text": [
      "My name is francis and i am 46 years old\n"
     ]
    }
   ],
   "source": [
    "name = 'francis'\n",
    "age = 46\n",
    "\n",
    "print('My name is', name, 'and i am', age, 'years old')"
   ]
  },
  {
   "cell_type": "code",
   "execution_count": 32,
   "id": "c830e304",
   "metadata": {},
   "outputs": [
    {
     "name": "stdout",
     "output_type": "stream",
     "text": [
      "My name is francis and i am 46 years old\n"
     ]
    }
   ],
   "source": [
    "#.format\n",
    "\n",
    "print('My name is {} and i am {} years old'.format(name,age))"
   ]
  },
  {
   "cell_type": "code",
   "execution_count": 33,
   "id": "de99f50a",
   "metadata": {},
   "outputs": [
    {
     "name": "stdout",
     "output_type": "stream",
     "text": [
      "My name is francis and i am 46 years old\n"
     ]
    }
   ],
   "source": [
    "# placeholder\n",
    "print('My name is %s and i am %s years old'%(name,age))"
   ]
  },
  {
   "cell_type": "code",
   "execution_count": 34,
   "id": "ed77ae1c",
   "metadata": {},
   "outputs": [
    {
     "name": "stdout",
     "output_type": "stream",
     "text": [
      "My name is francis and i am 46 years old\n"
     ]
    }
   ],
   "source": [
    "#f-string\n",
    "print(f'My name is {name} and i am {age} years old')"
   ]
  },
  {
   "cell_type": "code",
   "execution_count": 35,
   "id": "afbb5583",
   "metadata": {},
   "outputs": [],
   "source": [
    "name = 'Angela'"
   ]
  },
  {
   "cell_type": "code",
   "execution_count": 36,
   "id": "0ebfeb0a",
   "metadata": {},
   "outputs": [
    {
     "name": "stdout",
     "output_type": "stream",
     "text": [
      "My name is Angela and i am 46 years old\n"
     ]
    }
   ],
   "source": [
    "print(f'My name is {name} and i am {age} years old')"
   ]
  },
  {
   "cell_type": "markdown",
   "id": "0ecb0fe7",
   "metadata": {},
   "source": [
    "## Lists"
   ]
  },
  {
   "cell_type": "code",
   "execution_count": 37,
   "id": "0a00f6b9",
   "metadata": {},
   "outputs": [
    {
     "data": {
      "text/plain": [
       "['Daniel', 'Chinazam', 'Harrison', 'Wike', 'Obi', 'Brimah', 'Rita']"
      ]
     },
     "execution_count": 37,
     "metadata": {},
     "output_type": "execute_result"
    }
   ],
   "source": [
    "people = ['Daniel','Chinazam','Harrison','Wike','Obi','Brimah','Rita']\n",
    "people"
   ]
  },
  {
   "cell_type": "code",
   "execution_count": 38,
   "id": "449b905a",
   "metadata": {},
   "outputs": [
    {
     "data": {
      "text/plain": [
       "list"
      ]
     },
     "execution_count": 38,
     "metadata": {},
     "output_type": "execute_result"
    }
   ],
   "source": [
    "type(people)"
   ]
  },
  {
   "cell_type": "code",
   "execution_count": 39,
   "id": "7af14a78",
   "metadata": {},
   "outputs": [
    {
     "data": {
      "text/plain": [
       "['__add__',\n",
       " '__class__',\n",
       " '__class_getitem__',\n",
       " '__contains__',\n",
       " '__delattr__',\n",
       " '__delitem__',\n",
       " '__dir__',\n",
       " '__doc__',\n",
       " '__eq__',\n",
       " '__format__',\n",
       " '__ge__',\n",
       " '__getattribute__',\n",
       " '__getitem__',\n",
       " '__gt__',\n",
       " '__hash__',\n",
       " '__iadd__',\n",
       " '__imul__',\n",
       " '__init__',\n",
       " '__init_subclass__',\n",
       " '__iter__',\n",
       " '__le__',\n",
       " '__len__',\n",
       " '__lt__',\n",
       " '__mul__',\n",
       " '__ne__',\n",
       " '__new__',\n",
       " '__reduce__',\n",
       " '__reduce_ex__',\n",
       " '__repr__',\n",
       " '__reversed__',\n",
       " '__rmul__',\n",
       " '__setattr__',\n",
       " '__setitem__',\n",
       " '__sizeof__',\n",
       " '__str__',\n",
       " '__subclasshook__',\n",
       " 'append',\n",
       " 'clear',\n",
       " 'copy',\n",
       " 'count',\n",
       " 'extend',\n",
       " 'index',\n",
       " 'insert',\n",
       " 'pop',\n",
       " 'remove',\n",
       " 'reverse',\n",
       " 'sort']"
      ]
     },
     "execution_count": 39,
     "metadata": {},
     "output_type": "execute_result"
    }
   ],
   "source": [
    "dir(people)"
   ]
  },
  {
   "cell_type": "code",
   "execution_count": 40,
   "id": "96036ee7",
   "metadata": {},
   "outputs": [
    {
     "data": {
      "text/plain": [
       "['Daniel', 'Chinazam', 'Harrison', 'Wike', 'Obi', 'Brimah', 'Rita']"
      ]
     },
     "execution_count": 40,
     "metadata": {},
     "output_type": "execute_result"
    }
   ],
   "source": [
    "#copy() create a copy of something\n",
    "\n",
    "people_1 = people.copy()\n",
    "people_1"
   ]
  },
  {
   "cell_type": "code",
   "execution_count": 41,
   "id": "22939b53",
   "metadata": {},
   "outputs": [
    {
     "data": {
      "text/plain": [
       "[]"
      ]
     },
     "execution_count": 41,
     "metadata": {},
     "output_type": "execute_result"
    }
   ],
   "source": [
    "# clear() clears the content\n",
    "people_1.clear()\n",
    "people_1"
   ]
  },
  {
   "cell_type": "code",
   "execution_count": 42,
   "id": "c92cd038",
   "metadata": {},
   "outputs": [
    {
     "data": {
      "text/plain": [
       "['Daniel',\n",
       " 'Chinazam',\n",
       " 'Harrison',\n",
       " 'Wike',\n",
       " 'Obi',\n",
       " 'Brimah',\n",
       " 'Rita',\n",
       " 'Temitope',\n",
       " 'Tejiri']"
      ]
     },
     "execution_count": 42,
     "metadata": {},
     "output_type": "execute_result"
    }
   ],
   "source": [
    "# extend() extend the content by making it an iterable\n",
    "\n",
    "people.extend(['Temitope', 'Tejiri'])\n",
    "people"
   ]
  },
  {
   "cell_type": "code",
   "execution_count": 43,
   "id": "dc7d6aa1",
   "metadata": {},
   "outputs": [
    {
     "data": {
      "text/plain": [
       "4"
      ]
     },
     "execution_count": 43,
     "metadata": {},
     "output_type": "execute_result"
    }
   ],
   "source": [
    "people.index('Obi')"
   ]
  },
  {
   "cell_type": "code",
   "execution_count": 44,
   "id": "8b4378a8",
   "metadata": {},
   "outputs": [
    {
     "data": {
      "text/plain": [
       "['Daniel',\n",
       " 'Chinazam',\n",
       " 'Harrison',\n",
       " 'Wike',\n",
       " 'Esi',\n",
       " 'Obi',\n",
       " 'Brimah',\n",
       " 'Rita',\n",
       " 'Temitope',\n",
       " 'Tejiri']"
      ]
     },
     "execution_count": 44,
     "metadata": {},
     "output_type": "execute_result"
    }
   ],
   "source": [
    "# insert() lets you specify position and append an item\n",
    "\n",
    "people.insert(4, 'Esi')\n",
    "people"
   ]
  },
  {
   "cell_type": "code",
   "execution_count": 45,
   "id": "aa04c3e5",
   "metadata": {},
   "outputs": [
    {
     "data": {
      "text/plain": [
       "['Daniel',\n",
       " 'Chinazam',\n",
       " 'Harrison',\n",
       " 'Wike',\n",
       " 'Esi',\n",
       " {'place': 'Nigeria'},\n",
       " 'Obi',\n",
       " 'Brimah',\n",
       " 'Rita',\n",
       " 'Temitope',\n",
       " 'Tejiri']"
      ]
     },
     "execution_count": 45,
     "metadata": {},
     "output_type": "execute_result"
    }
   ],
   "source": [
    "people.insert(5, {'place': 'Nigeria'})\n",
    "people"
   ]
  },
  {
   "cell_type": "code",
   "execution_count": 46,
   "id": "835735db",
   "metadata": {},
   "outputs": [
    {
     "data": {
      "text/plain": [
       "['Daniel',\n",
       " 'Chinazam',\n",
       " 'Harrison',\n",
       " 'Wike',\n",
       " 'Esi',\n",
       " {'place': 'Nigeria'},\n",
       " 'Obi',\n",
       " 'Brimah',\n",
       " 'Rita',\n",
       " 'Temitope',\n",
       " 'Tejiri',\n",
       " 'Daniel',\n",
       " 'Daniel',\n",
       " 'Chinazam']"
      ]
     },
     "execution_count": 46,
     "metadata": {},
     "output_type": "execute_result"
    }
   ],
   "source": [
    "\n",
    "people.extend(['Daniel', 'Daniel','Chinazam'])\n",
    "people"
   ]
  },
  {
   "cell_type": "code",
   "execution_count": 47,
   "id": "badce812",
   "metadata": {},
   "outputs": [],
   "source": [
    "#remove() remove first occurence of an item\n",
    "\n",
    "people.remove({'place': 'Nigeria'})"
   ]
  },
  {
   "cell_type": "code",
   "execution_count": 48,
   "id": "3433e5fa",
   "metadata": {},
   "outputs": [
    {
     "data": {
      "text/plain": [
       "['Daniel',\n",
       " 'Chinazam',\n",
       " 'Harrison',\n",
       " 'Wike',\n",
       " 'Esi',\n",
       " 'Obi',\n",
       " 'Brimah',\n",
       " 'Rita',\n",
       " 'Temitope',\n",
       " 'Tejiri',\n",
       " 'Daniel',\n",
       " 'Daniel',\n",
       " 'Chinazam']"
      ]
     },
     "execution_count": 48,
     "metadata": {},
     "output_type": "execute_result"
    }
   ],
   "source": [
    "people"
   ]
  },
  {
   "cell_type": "code",
   "execution_count": 49,
   "id": "c2657bfb",
   "metadata": {},
   "outputs": [
    {
     "data": {
      "text/plain": [
       "['Daniel',\n",
       " 'Chinazam',\n",
       " 'Harrison',\n",
       " 'Wike',\n",
       " 'Esi',\n",
       " 'Obi',\n",
       " 'Brimah',\n",
       " 'Rita',\n",
       " 'Temitope',\n",
       " 'Tejiri',\n",
       " 'Daniel',\n",
       " 'Daniel',\n",
       " 'Chinazam']"
      ]
     },
     "execution_count": 49,
     "metadata": {},
     "output_type": "execute_result"
    }
   ],
   "source": [
    "\n",
    "people"
   ]
  },
  {
   "cell_type": "code",
   "execution_count": 50,
   "id": "1ab51601",
   "metadata": {},
   "outputs": [
    {
     "data": {
      "text/plain": [
       "['Brimah',\n",
       " 'Chinazam',\n",
       " 'Chinazam',\n",
       " 'Daniel',\n",
       " 'Daniel',\n",
       " 'Daniel',\n",
       " 'Esi',\n",
       " 'Harrison',\n",
       " 'Obi',\n",
       " 'Rita',\n",
       " 'Tejiri',\n",
       " 'Temitope',\n",
       " 'Wike']"
      ]
     },
     "execution_count": 50,
     "metadata": {},
     "output_type": "execute_result"
    }
   ],
   "source": [
    "#sort() Lets you sort in ascending or desending order\n",
    "people.sort()\n",
    "people"
   ]
  },
  {
   "cell_type": "code",
   "execution_count": 51,
   "id": "22185ece",
   "metadata": {},
   "outputs": [
    {
     "data": {
      "text/plain": [
       "['Wike',\n",
       " 'Temitope',\n",
       " 'Tejiri',\n",
       " 'Rita',\n",
       " 'Obi',\n",
       " 'Harrison',\n",
       " 'Esi',\n",
       " 'Daniel',\n",
       " 'Daniel',\n",
       " 'Daniel',\n",
       " 'Chinazam',\n",
       " 'Chinazam',\n",
       " 'Brimah']"
      ]
     },
     "execution_count": 51,
     "metadata": {},
     "output_type": "execute_result"
    }
   ],
   "source": [
    "people.sort(reverse=True)\n",
    "people"
   ]
  },
  {
   "cell_type": "code",
   "execution_count": 52,
   "id": "6e8a8d1c",
   "metadata": {},
   "outputs": [
    {
     "data": {
      "text/plain": [
       "'Rita'"
      ]
     },
     "execution_count": 52,
     "metadata": {},
     "output_type": "execute_result"
    }
   ],
   "source": [
    "people[3]"
   ]
  },
  {
   "cell_type": "code",
   "execution_count": 53,
   "id": "f8da091d",
   "metadata": {},
   "outputs": [
    {
     "data": {
      "text/plain": [
       "['Toyota', 'Honda', 'Mercedes', ['Bajaj', 'Suzuki', 'TVS', ['BMX', 'Raleigh']]]"
      ]
     },
     "execution_count": 53,
     "metadata": {},
     "output_type": "execute_result"
    }
   ],
   "source": [
    "#nested list\n",
    "vehicle = ['Toyota','Honda','Mercedes',['Bajaj','Suzuki','TVS',['BMX','Raleigh']]]\n",
    "vehicle"
   ]
  },
  {
   "cell_type": "code",
   "execution_count": 54,
   "id": "3c6e5687",
   "metadata": {},
   "outputs": [
    {
     "data": {
      "text/plain": [
       "'Honda'"
      ]
     },
     "execution_count": 54,
     "metadata": {},
     "output_type": "execute_result"
    }
   ],
   "source": [
    "vehicle[1]"
   ]
  },
  {
   "cell_type": "code",
   "execution_count": 55,
   "id": "ae95c65c",
   "metadata": {},
   "outputs": [
    {
     "data": {
      "text/plain": [
       "['Bajaj', 'Suzuki', 'TVS', ['BMX', 'Raleigh']]"
      ]
     },
     "execution_count": 55,
     "metadata": {},
     "output_type": "execute_result"
    }
   ],
   "source": [
    "vehicle[3]"
   ]
  },
  {
   "cell_type": "code",
   "execution_count": 56,
   "id": "f4fd7d59",
   "metadata": {},
   "outputs": [
    {
     "data": {
      "text/plain": [
       "'Bajaj'"
      ]
     },
     "execution_count": 56,
     "metadata": {},
     "output_type": "execute_result"
    }
   ],
   "source": [
    "#accessing the elements of a nested list\n",
    "vehicle[3][0]"
   ]
  },
  {
   "cell_type": "code",
   "execution_count": 57,
   "id": "0c9c0c2d",
   "metadata": {},
   "outputs": [
    {
     "data": {
      "text/plain": [
       "'Raleigh'"
      ]
     },
     "execution_count": 57,
     "metadata": {},
     "output_type": "execute_result"
    }
   ],
   "source": [
    "vehicle[3][3][1]"
   ]
  },
  {
   "cell_type": "code",
   "execution_count": 58,
   "id": "48f3790d",
   "metadata": {},
   "outputs": [
    {
     "data": {
      "text/plain": [
       "[1, 2, 3, 4]"
      ]
     },
     "execution_count": 58,
     "metadata": {},
     "output_type": "execute_result"
    }
   ],
   "source": [
    "#list\n",
    "[1,2,3,4]"
   ]
  },
  {
   "cell_type": "code",
   "execution_count": 59,
   "id": "59b5fb9a",
   "metadata": {},
   "outputs": [
    {
     "data": {
      "text/plain": [
       "(7, 6, 5, 4, 3, 2)"
      ]
     },
     "execution_count": 59,
     "metadata": {},
     "output_type": "execute_result"
    }
   ],
   "source": [
    "#tuple\n",
    "(7,6,5,4,3,2)"
   ]
  },
  {
   "cell_type": "code",
   "execution_count": 60,
   "id": "35b9e90c",
   "metadata": {},
   "outputs": [
    {
     "data": {
      "text/plain": [
       "{'name': 'francis'}"
      ]
     },
     "execution_count": 60,
     "metadata": {},
     "output_type": "execute_result"
    }
   ],
   "source": [
    "{'name':'francis'}"
   ]
  },
  {
   "cell_type": "code",
   "execution_count": 61,
   "id": "557c1685",
   "metadata": {},
   "outputs": [
    {
     "data": {
      "text/plain": [
       "{1, 2, 3, 4}"
      ]
     },
     "execution_count": 61,
     "metadata": {},
     "output_type": "execute_result"
    }
   ],
   "source": [
    "#set\n",
    "{1,2,3,4}"
   ]
  },
  {
   "cell_type": "code",
   "execution_count": 62,
   "id": "84b461b9",
   "metadata": {},
   "outputs": [
    {
     "data": {
      "text/plain": [
       "'C:\\\\Users\\\\value\\\\Documents\\\\10alytics projects\\\\python'"
      ]
     },
     "execution_count": 62,
     "metadata": {},
     "output_type": "execute_result"
    }
   ],
   "source": [
    "pwd()"
   ]
  },
  {
   "cell_type": "code",
   "execution_count": 63,
   "id": "cfcb5cb8",
   "metadata": {},
   "outputs": [
    {
     "data": {
      "text/plain": [
       "'This is multiple line\\n   comment syntax'"
      ]
     },
     "execution_count": 63,
     "metadata": {},
     "output_type": "execute_result"
    }
   ],
   "source": [
    "# this is a one line comment syntax\n",
    "'''This is multiple line\n",
    "   comment syntax'''"
   ]
  },
  {
   "cell_type": "markdown",
   "id": "5a9843ba",
   "metadata": {},
   "source": [
    "### Supermarket Scenerio\n",
    "\n",
    "- Calculate a customer's discount based on certain conditions\n",
    "\n",
    "- Customer Type = Corporate or Retail\n",
    "\n",
    "- amount\n",
    "\n",
    "- Corporate Discount\n",
    "- amount <= 10000 - 20%\n",
    "- amt <= 40000 - 25%\n",
    "- amt <= 100000 - 30%\n",
    "- amt > 100000 - 40%\n",
    "\n",
    "- Retail Discount\n",
    "- amt <= 10000 - 10%\n",
    "- amt <= 40000 - 15%\n",
    "- amt <= 100000 - 20%\n",
    "- amt > 100000 - 30%\n",
    "- print amount\n",
    "- print discount\n",
    "- amount due = amt - discount"
   ]
  },
  {
   "cell_type": "code",
   "execution_count": 64,
   "id": "fd6bbc7c",
   "metadata": {},
   "outputs": [
    {
     "name": "stdout",
     "output_type": "stream",
     "text": [
      "What type of customer are you?: Retail\n",
      "What is the value of your purchase?: 70000\n",
      "-------------------------------------------------------------------\n",
      "The total value of your purchase is 70000.0\n",
      "Based on your selection, you are a Retail customer\n",
      "Based on your selection, your discount rate is 0.3\n",
      "Your final amount due is 49000.0\n"
     ]
    }
   ],
   "source": [
    "cust_type = input('What type of customer are you?: ')\n",
    "amt = float(input('What is the value of your purchase?: '))\n",
    "\n",
    "if cust_type == 'Corporate':\n",
    "    if amt <= 10000:\n",
    "        discount = 0.2\n",
    "    elif amt <= 40000:\n",
    "        discount = 0.25\n",
    "    elif amt <= 10000:\n",
    "        discount = 0.3\n",
    "    else:\n",
    "        discount = 0.4\n",
    "elif cust_type == 'Retail':\n",
    "    if amt <= 10000:\n",
    "        discount = 0.1\n",
    "    elif amt <= 40000:\n",
    "        discount = 0.15\n",
    "    elif amt <= 10000:\n",
    "        discount = 0.2\n",
    "    else:\n",
    "        discount = 0.3\n",
    "        \n",
    "        \n",
    "amt_due = amt - (amt*discount)\n",
    "\n",
    "print('-------------------------------------------------------------------')\n",
    "print(f'The total value of your purchase is {amt}')\n",
    "print(f'Based on your selection, you are a {cust_type} customer')\n",
    "print(f'Based on your selection, your discount rate is {discount}')\n",
    "print(f'Your final amount due is {amt_due}')\n"
   ]
  },
  {
   "cell_type": "code",
   "execution_count": 67,
   "id": "c6a7cba0",
   "metadata": {},
   "outputs": [
    {
     "name": "stdout",
     "output_type": "stream",
     "text": [
      "What type of customer are you?: Corporate\n",
      "What is the value of your purchase?: 10000\n",
      "-------------------------------------------------------------------\n",
      "The total value of your purchase is 10000.0\n",
      "Based on your selection, you are a Corporate customer\n",
      "Based on your selection, your discount rate is 0.2\n",
      "Your final amount due is 8000.0\n"
     ]
    }
   ],
   "source": [
    "#get the customer type\n",
    "cust_type = input('What type of customer are you?: ')\n",
    "\n",
    "#get the value of customer purchase \n",
    "amt = float(input('What is the value of your purchase?: '))\n",
    "\n",
    "# check that the customer type is in corporate of retail\n",
    "if cust_type == 'Corporate' or cust_type == 'Retail':\n",
    "    \n",
    "    # if corporate\n",
    "    if cust_type == 'Corporate':\n",
    "        if amt <= 10000:\n",
    "            discount = 0.2\n",
    "        elif amt <= 40000:\n",
    "            discount = 0.25\n",
    "        elif amt <= 10000:\n",
    "            discount = 0.3\n",
    "        else:\n",
    "            discount = 0.4\n",
    "\n",
    "    # if retail\n",
    "    elif cust_type == 'Retail':\n",
    "        if amt <= 10000:\n",
    "            discount = 0.1\n",
    "        elif amt <= 40000:\n",
    "            discount = 0.15\n",
    "        elif amt <= 10000:\n",
    "            discount = 0.2\n",
    "        else:\n",
    "            discount = 0.3\n",
    "        \n",
    "    \n",
    "    # calculate the amt due       \n",
    "    amt_due = amt - (amt*discount)\n",
    "\n",
    "    print('-------------------------------------------------------------------')\n",
    "    print(f'The total value of your purchase is {amt}')\n",
    "    print(f'Based on your selection, you are a {cust_type} customer')\n",
    "    print(f'Based on your selection, your discount rate is {discount}')\n",
    "    print(f'Your final amount due is {amt_due}')\n",
    "\n",
    "else:\n",
    "    print('Sorry, we do not recognise that customer type, hence you are not eligible for a discount')\n"
   ]
  },
  {
   "cell_type": "markdown",
   "id": "7b0fb109",
   "metadata": {},
   "source": [
    "### For Loop"
   ]
  },
  {
   "cell_type": "code",
   "execution_count": 68,
   "id": "0c01a78f",
   "metadata": {},
   "outputs": [
    {
     "data": {
      "text/plain": [
       "[1, 2, 3, 4, 5, 6, 7, 8, 9, 10]"
      ]
     },
     "execution_count": 68,
     "metadata": {},
     "output_type": "execute_result"
    }
   ],
   "source": [
    "mylist=[1,2,3,4,5,6,7,8,9,10]\n",
    "mylist"
   ]
  },
  {
   "cell_type": "code",
   "execution_count": 69,
   "id": "b46c9e37",
   "metadata": {},
   "outputs": [
    {
     "name": "stdout",
     "output_type": "stream",
     "text": [
      "1 is an even number\n",
      "2 is an even number\n",
      "3 is an even number\n",
      "4 is an even number\n",
      "5 is an even number\n",
      "6 is an even number\n",
      "7 is an even number\n",
      "8 is an even number\n",
      "9 is an even number\n",
      "10 is an even number\n"
     ]
    }
   ],
   "source": [
    "# print even number in mylist\n",
    "for i in mylist:\n",
    "    if i % 1 == 0:\n",
    "        print(f'{i} is an even number')"
   ]
  },
  {
   "cell_type": "code",
   "execution_count": 70,
   "id": "9808f060",
   "metadata": {},
   "outputs": [
    {
     "name": "stdout",
     "output_type": "stream",
     "text": [
      "1 is an even number\n",
      "2 is an even number\n",
      "3 is an even number\n",
      "4 is an even number\n",
      "5 is an even number\n",
      "6 is an even number\n",
      "7 is an even number\n",
      "8 is an even number\n",
      "9 is an even number\n",
      "10 is an even number\n"
     ]
    }
   ],
   "source": [
    "# print even/odd number in mylist\n",
    "for i in mylist:\n",
    "    if i % 1 == 0:\n",
    "        print(f'{i} is an even number')\n",
    "    else: \n",
    "        print(f'{i} is an odd number')"
   ]
  },
  {
   "cell_type": "code",
   "execution_count": 71,
   "id": "9bd0c825",
   "metadata": {},
   "outputs": [
    {
     "name": "stdout",
     "output_type": "stream",
     "text": [
      "1\n",
      "3\n",
      "6\n",
      "10\n",
      "15\n",
      "21\n",
      "28\n",
      "36\n",
      "45\n",
      "55\n"
     ]
    }
   ],
   "source": [
    "#sum_mylist = 0\n",
    "sum_mylist = 0\n",
    "\n",
    "for i in mylist:\n",
    "    sum_mylist = sum_mylist + i\n",
    "    print(sum_mylist)\n",
    "    "
   ]
  },
  {
   "cell_type": "code",
   "execution_count": 72,
   "id": "7189ef9c",
   "metadata": {},
   "outputs": [
    {
     "name": "stdout",
     "output_type": "stream",
     "text": [
      "65\n"
     ]
    }
   ],
   "source": [
    "sum_mylist2 = 0\n",
    "\n",
    "for i in mylist:\n",
    "    sum_mylist2 = sum_mylist + i\n",
    "    \n",
    "print(sum_mylist2)"
   ]
  },
  {
   "cell_type": "code",
   "execution_count": 73,
   "id": "c9fd2686",
   "metadata": {},
   "outputs": [
    {
     "data": {
      "text/plain": [
       "'C:\\\\Users\\\\value\\\\Documents\\\\10alytics projects\\\\python'"
      ]
     },
     "execution_count": 73,
     "metadata": {},
     "output_type": "execute_result"
    }
   ],
   "source": [
    "pwd()"
   ]
  },
  {
   "cell_type": "markdown",
   "id": "27ef6bf6",
   "metadata": {},
   "source": [
    "### While Loop"
   ]
  },
  {
   "cell_type": "code",
   "execution_count": 74,
   "id": "c587770f",
   "metadata": {},
   "outputs": [
    {
     "name": "stdout",
     "output_type": "stream",
     "text": [
      "0 is currently less than 10\n",
      "1 is currently less than 10\n",
      "2 is currently less than 10\n",
      "3 is currently less than 10\n",
      "4 is currently less than 10\n",
      "5 is currently less than 10\n",
      "6 is currently less than 10\n",
      "7 is currently less than 10\n",
      "8 is currently less than 10\n",
      "9 is currently less than 10\n"
     ]
    }
   ],
   "source": [
    "x = 0\n",
    "\n",
    "while x < 10:\n",
    "    print (f'{x} is currently less than 10')\n",
    "    x = x + 1"
   ]
  },
  {
   "cell_type": "code",
   "execution_count": 75,
   "id": "c3bf7edc",
   "metadata": {},
   "outputs": [
    {
     "name": "stdout",
     "output_type": "stream",
     "text": [
      "0 is currently less than 10\n",
      "1 is currently less than 10\n",
      "2 is currently less than 10\n",
      "3 is currently less than 10\n",
      "4 is currently less than 10\n",
      "5 is currently less than 10\n",
      "6 is currently less than 10\n",
      "7 is currently less than 10\n",
      "8 is currently less than 10\n",
      "9 is currently less than 10\n"
     ]
    }
   ],
   "source": [
    "x = 0\n",
    "\n",
    "while x < 10:\n",
    "    print (f'{x} is currently less than 10')\n",
    "    x += 1"
   ]
  },
  {
   "cell_type": "markdown",
   "id": "7ac5860d",
   "metadata": {},
   "source": [
    "### flow control\n"
   ]
  },
  {
   "cell_type": "code",
   "execution_count": 76,
   "id": "98cb6191",
   "metadata": {},
   "outputs": [
    {
     "name": "stdout",
     "output_type": "stream",
     "text": [
      "Number is 0\n",
      "Number is 1\n",
      "Number is 2\n",
      "Number is 3\n",
      "Number is 4\n",
      "Number is 5\n",
      "Number is 6\n",
      "Number is 7\n",
      "Number is 8\n",
      "Number is 9\n",
      "Out of loop\n"
     ]
    }
   ],
   "source": [
    "#pass - does nothing\n",
    "# break - forces out of the loop\n",
    "# continue - ignores a particular iteration result\n",
    "\n",
    "for num in range(10):\n",
    "    if num == 5:\n",
    "        pass\n",
    "    print(f'Number is {num}')\n",
    "print('Out of loop')"
   ]
  },
  {
   "cell_type": "code",
   "execution_count": 77,
   "id": "3226303d",
   "metadata": {},
   "outputs": [
    {
     "name": "stdout",
     "output_type": "stream",
     "text": [
      "Number is 0\n",
      "Number is 1\n",
      "Number is 2\n",
      "Number is 3\n",
      "Number is 4\n",
      "Out of loop\n"
     ]
    }
   ],
   "source": [
    "for num in range(10):\n",
    "    if num == 5:\n",
    "        break\n",
    "    print(f'Number is {num}')\n",
    "print('Out of loop')"
   ]
  },
  {
   "cell_type": "code",
   "execution_count": 78,
   "id": "f8b732ff",
   "metadata": {},
   "outputs": [
    {
     "name": "stdout",
     "output_type": "stream",
     "text": [
      "Number is 0\n",
      "Number is 1\n",
      "Number is 2\n",
      "Number is 3\n",
      "Number is 4\n",
      "Number is 6\n",
      "Number is 7\n",
      "Number is 8\n",
      "Number is 9\n",
      "Out of loop\n"
     ]
    }
   ],
   "source": [
    "for num in range(10):\n",
    "    if num == 5:\n",
    "        continue\n",
    "    print(f'Number is {num}')\n",
    "print('Out of loop')"
   ]
  },
  {
   "cell_type": "markdown",
   "id": "3d276967",
   "metadata": {},
   "source": [
    "### Functions"
   ]
  },
  {
   "cell_type": "code",
   "execution_count": 79,
   "id": "e660acfa",
   "metadata": {},
   "outputs": [],
   "source": [
    "def salutation():\n",
    "    # give salutation to a person based on gender\n",
    "    name = input('What is your name?:  ')\n",
    "    gender = input('What is your gender?: ')\n",
    "    if gender == 'Male':\n",
    "        saluation = 'Mr.'\n",
    "    else: \n",
    "        salutation = 'Ms.'\n",
    "    print(f'Hello {salutation}{name}, Welcome to the class')"
   ]
  },
  {
   "cell_type": "code",
   "execution_count": 80,
   "id": "d243d792",
   "metadata": {},
   "outputs": [
    {
     "name": "stdout",
     "output_type": "stream",
     "text": [
      "What is your name?:  Aima\n",
      "What is your gender?: Female\n",
      "Hello Ms.Aima, Welcome to the class\n"
     ]
    }
   ],
   "source": [
    "salutation()"
   ]
  },
  {
   "cell_type": "code",
   "execution_count": 81,
   "id": "eee7b06c",
   "metadata": {},
   "outputs": [],
   "source": [
    "def customer_discount():\n",
    "        \n",
    "    #get the customer type\n",
    "    cust_type = input('What type of customer are you?: ')\n",
    "\n",
    "    #get the value of customer purchase \n",
    "    amt = float(input('What is the value of your purchase?: '))\n",
    "\n",
    "    # check that the customer type is in corporate of retail\n",
    "    if cust_type == 'Corporate' or cust_type == 'Retail':\n",
    "\n",
    "        # if corporate\n",
    "        if cust_type == 'Corporate':\n",
    "            if amt <= 10000:\n",
    "                discount = 0.2\n",
    "            elif amt <= 40000:\n",
    "                discount = 0.25\n",
    "            elif amt <= 10000:\n",
    "                discount = 0.3\n",
    "            else:\n",
    "                discount = 0.4\n",
    "\n",
    "        # if retail\n",
    "        elif cust_type == 'Retail':\n",
    "            if amt <= 10000:\n",
    "                discount = 0.1\n",
    "            elif amt <= 40000:\n",
    "                discount = 0.15\n",
    "            elif amt <= 10000:\n",
    "                discount = 0.2\n",
    "            else:\n",
    "                discount = 0.3\n",
    "\n",
    "\n",
    "        # calculate the amt due       \n",
    "        amt_due = amt - (amt*discount)\n",
    "\n",
    "        print('-------------------------------------------------------------------')\n",
    "        print(f'The total value of your purchase is {amt}')\n",
    "        print(f'Based on your selection, you are a {cust_type} customer')\n",
    "        print(f'Based on your selection, your discount rate is {discount}')\n",
    "        print(f'Your final amount due is {amt_due}')\n",
    "\n",
    "    else:\n",
    "        print('Sorry, we do not recognise that customer type, hence you are not eligible for a discount')"
   ]
  },
  {
   "cell_type": "code",
   "execution_count": 82,
   "id": "4ca8035e",
   "metadata": {},
   "outputs": [
    {
     "name": "stdout",
     "output_type": "stream",
     "text": [
      "What type of customer are you?: Retail\n",
      "What is the value of your purchase?: 70000\n",
      "-------------------------------------------------------------------\n",
      "The total value of your purchase is 70000.0\n",
      "Based on your selection, you are a Retail customer\n",
      "Based on your selection, your discount rate is 0.3\n",
      "Your final amount due is 49000.0\n"
     ]
    }
   ],
   "source": [
    "customer_discount()"
   ]
  },
  {
   "cell_type": "code",
   "execution_count": 90,
   "id": "8cff2f72",
   "metadata": {},
   "outputs": [],
   "source": [
    "def salutation(name, gender):\n",
    "    # give salutation to a person based on gender\n",
    "    \n",
    "    if gender == 'Male':\n",
    "        salutation = 'Mr.'\n",
    "    else: \n",
    "        salutation = 'Ms.'\n",
    "    print(f'Hello {salutation}{name}, Welcome to the class')"
   ]
  },
  {
   "cell_type": "code",
   "execution_count": 98,
   "id": "349d9be5",
   "metadata": {},
   "outputs": [
    {
     "name": "stdout",
     "output_type": "stream",
     "text": [
      "Hello Ms.Gina, You are female and you are welcome to the class\n"
     ]
    }
   ],
   "source": [
    "salutation('Aima','female')"
   ]
  },
  {
   "cell_type": "code",
   "execution_count": 91,
   "id": "3f095fce",
   "metadata": {},
   "outputs": [
    {
     "ename": "SyntaxError",
     "evalue": "non-default argument follows default argument (2701731750.py, line 1)",
     "output_type": "error",
     "traceback": [
      "\u001b[1;36m  File \u001b[1;32m\"C:\\Users\\value\\AppData\\Local\\Temp\\ipykernel_18212\\2701731750.py\"\u001b[1;36m, line \u001b[1;32m1\u001b[0m\n\u001b[1;33m    def salutation(name='Aima', gender, age):\u001b[0m\n\u001b[1;37m                                        ^\u001b[0m\n\u001b[1;31mSyntaxError\u001b[0m\u001b[1;31m:\u001b[0m non-default argument follows default argument\n"
     ]
    }
   ],
   "source": [
    "def salutation(name='Aima', gender, age):\n",
    "    # give salutation to a person based on gender\n",
    "    \n",
    "    if gender == 'Male':\n",
    "        salutation = 'Mr.'\n",
    "    else: \n",
    "        salutation = 'Ms.'\n",
    "    print(f'Hello {salutation}{name}, You are {age} and you are welcome to the class')"
   ]
  },
  {
   "cell_type": "code",
   "execution_count": 95,
   "id": "3d781a9b",
   "metadata": {},
   "outputs": [],
   "source": [
    "def salutation(gender, age, name='Gina'):\n",
    "    # give salutation to a person based on gender\n",
    "    \n",
    "    if gender == 'Male':\n",
    "        salutation = 'Mr.'\n",
    "    else: \n",
    "        salutation = 'Ms.'\n",
    "        \n",
    "    print(f'Hello {salutation}{name}, You are {age} and you are welcome to the class')"
   ]
  },
  {
   "cell_type": "code",
   "execution_count": 99,
   "id": "5f8bf021",
   "metadata": {},
   "outputs": [
    {
     "name": "stdout",
     "output_type": "stream",
     "text": [
      "Hello Mr.Tola, You are 24 and you are welcome to the class\n"
     ]
    }
   ],
   "source": [
    "salutation('Male', 24, 'Tola' )"
   ]
  },
  {
   "cell_type": "code",
   "execution_count": 8,
   "id": "656ca1e4",
   "metadata": {},
   "outputs": [],
   "source": [
    "def customer_discount():\n",
    "        \n",
    "    #get the customer type\n",
    "    cust_type = input('What type of customer are you?: ')\n",
    "    \n",
    "    # converts the input to lower case\n",
    "    cust_type = cust_type.lower()\n",
    "\n",
    "    #get the value of customer purchase \n",
    "    amt = float(input('What is the value of your purchase?: '))\n",
    "\n",
    "    # check that the customer type is in corporate of retail\n",
    "    if cust_type == 'corporate' or cust_type == 'retail':\n",
    "\n",
    "        # if corporate\n",
    "        if cust_type == 'corporate':\n",
    "            if amt <= 10000:\n",
    "                discount = 0.2\n",
    "            elif amt <= 40000:\n",
    "                discount = 0.25\n",
    "            elif amt <= 10000:\n",
    "                discount = 0.3\n",
    "            else:\n",
    "                discount = 0.4\n",
    "\n",
    "        # if retail\n",
    "        elif cust_type == 'retail':\n",
    "            if amt <= 10000:\n",
    "                discount = 0.1\n",
    "            elif amt <= 40000:\n",
    "                discount = 0.15\n",
    "            elif amt <= 10000:\n",
    "                discount = 0.2\n",
    "            else:\n",
    "                discount = 0.3\n",
    "\n",
    "\n",
    "        # calculate the amt due       \n",
    "        amt_due = amt - (amt*discount)\n",
    "\n",
    "        print('-------------------------------------------------------------------')\n",
    "        print(f'The total value of your purchase is {amt}')\n",
    "        print(f'Based on your selection, you are a {cust_type} customer')\n",
    "        print(f'Based on your selection, your discount rate is {discount}')\n",
    "        print(f'Your final amount due is {amt_due}')\n",
    "\n",
    "    else:\n",
    "        print('Sorry, we do not recognise that customer type, hence you are not eligible for a discount')\n"
   ]
  },
  {
   "cell_type": "code",
   "execution_count": 10,
   "id": "d42b1617",
   "metadata": {},
   "outputs": [
    {
     "name": "stdout",
     "output_type": "stream",
     "text": [
      "What type of customer are you?: ReTail\n",
      "What is the value of your purchase?: 50000\n",
      "-------------------------------------------------------------------\n",
      "The total value of your purchase is 50000.0\n",
      "Based on your selection, you are a retail customer\n",
      "Based on your selection, your discount rate is 0.3\n",
      "Your final amount due is 35000.0\n"
     ]
    }
   ],
   "source": [
    "customer_discount()"
   ]
  },
  {
   "cell_type": "code",
   "execution_count": null,
   "id": "400cfd16",
   "metadata": {},
   "outputs": [],
   "source": [
    "\n"
   ]
  },
  {
   "cell_type": "code",
   "execution_count": null,
   "id": "8ca799ab",
   "metadata": {},
   "outputs": [],
   "source": []
  },
  {
   "cell_type": "code",
   "execution_count": null,
   "id": "69dffa1c",
   "metadata": {},
   "outputs": [],
   "source": []
  }
 ],
 "metadata": {
  "kernelspec": {
   "display_name": "Python 3 (ipykernel)",
   "language": "python",
   "name": "python3"
  },
  "language_info": {
   "codemirror_mode": {
    "name": "ipython",
    "version": 3
   },
   "file_extension": ".py",
   "mimetype": "text/x-python",
   "name": "python",
   "nbconvert_exporter": "python",
   "pygments_lexer": "ipython3",
   "version": "3.9.13"
  }
 },
 "nbformat": 4,
 "nbformat_minor": 5
}
